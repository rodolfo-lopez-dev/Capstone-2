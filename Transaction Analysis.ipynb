{
 "cells": [
  {
   "cell_type": "code",
   "execution_count": 1,
   "id": "d6e28681-758f-4f11-b63b-587c360516cb",
   "metadata": {},
   "outputs": [],
   "source": [
    "import pandas as pd\n",
    "import matplotlib.pyplot as plt"
   ]
  },
  {
   "cell_type": "code",
   "execution_count": null,
   "id": "817493e0-d5fc-4a20-9a02-f392993a28d4",
   "metadata": {},
   "outputs": [],
   "source": [
    "df1.duplicated()\n",
    "df1.duplicated(keep=False) # to keep first time "
   ]
  },
  {
   "cell_type": "code",
   "execution_count": null,
   "id": "45b48979-0b6e-40fe-aaec-d9babc63e064",
   "metadata": {},
   "outputs": [],
   "source": [
    "df1.shape # looking before duplicates\n",
    "df1.drop_duplicates()"
   ]
  },
  {
   "cell_type": "code",
   "execution_count": null,
   "id": "e2cd6a5c-a3d9-4550-a5e9-b906d4492743",
   "metadata": {},
   "outputs": [],
   "source": [
    "df1[df1.duplicated()].shape # how many rows are true, are duplicate \n",
    "df_duplicates=df1[df1.duplicated()]\n"
   ]
  },
  {
   "cell_type": "code",
   "execution_count": null,
   "id": "aa7e72fa-3185-4cf7-b0fe-3c504ab84904",
   "metadata": {},
   "outputs": [],
   "source": [
    ".unique()\n",
    "# summary stat before and after\n"
   ]
  }
 ],
 "metadata": {
  "kernelspec": {
   "display_name": "Python 3 (ipykernel)",
   "language": "python",
   "name": "python3"
  },
  "language_info": {
   "codemirror_mode": {
    "name": "ipython",
    "version": 3
   },
   "file_extension": ".py",
   "mimetype": "text/x-python",
   "name": "python",
   "nbconvert_exporter": "python",
   "pygments_lexer": "ipython3",
   "version": "3.13.0"
  }
 },
 "nbformat": 4,
 "nbformat_minor": 5
}
